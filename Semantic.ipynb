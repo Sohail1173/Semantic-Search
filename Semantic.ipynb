{
  "cells": [
    {
      "cell_type": "markdown",
      "metadata": {
        "id": "view-in-github",
        "colab_type": "text"
      },
      "source": [
        "<a href=\"https://colab.research.google.com/github/Sohail1173/Semantic-Search/blob/main/Semantic.ipynb\" target=\"_parent\"><img src=\"https://colab.research.google.com/assets/colab-badge.svg\" alt=\"Open In Colab\"/></a>"
      ]
    },
    {
      "cell_type": "code",
      "execution_count": 22,
      "metadata": {
        "id": "-9EqfiS-Io6g"
      },
      "outputs": [],
      "source": [
        "!pip install -q sentence-transformers faiss-cpu numpy pandas matplotlib datasets"
      ]
    },
    {
      "cell_type": "code",
      "execution_count": 2,
      "metadata": {
        "id": "qht6wyP1JJL7"
      },
      "outputs": [],
      "source": [
        "import numpy as np\n",
        "import pandas as pd\n",
        "import matplotlib.pyplot as plt\n",
        "from sentence_transformers import SentenceTransformer\n",
        "import faiss\n",
        "from typing import List, Dict, Tuple\n",
        "import time\n",
        "import re\n",
        "import torch\n",
        "import requests\n",
        "from io import StringIO"
      ]
    },
    {
      "cell_type": "code",
      "execution_count": 21,
      "metadata": {
        "colab": {
          "base_uri": "https://localhost:8080/"
        },
        "id": "M-F8WI_9JJIv",
        "outputId": "ca6c468c-2b40-415a-82f9-5c00c3e10cd6"
      },
      "outputs": [
        {
          "output_type": "stream",
          "name": "stdout",
          "text": [
            "Dataset loaded with 10 scientific papers\n"
          ]
        }
      ],
      "source": [
        "abstracts = [\n",
        "    {\n",
        "        \"id\": 1,\n",
        "        \"title\": \"Deep Learning for Natural Language Processing\",\n",
        "        \"abstract\": \"This paper explores recent advances in deep learning models for natural language processing tasks. We review transformer architectures including BERT, GPT, and T5, and analyze their performance on various benchmarks including question answering, sentiment analysis, and text classification.\"\n",
        "    },\n",
        "    {\n",
        "        \"id\": 2,\n",
        "        \"title\": \"Climate Change Impact on Marine Ecosystems\",\n",
        "        \"abstract\": \"Rising ocean temperatures and acidification are severely impacting coral reefs and marine biodiversity. This study presents data collected over a 10-year period, demonstrating accelerated decline in reef ecosystems and proposing conservation strategies to mitigate further damage.\"\n",
        "    },\n",
        "    {\n",
        "        \"id\": 3,\n",
        "        \"title\": \"Advancements in mRNA Vaccine Technology\",\n",
        "        \"abstract\": \"The development of mRNA vaccines represents a breakthrough in immunization technology. This review discusses the mechanism of action, stability improvements, and clinical efficacy of mRNA platforms, with special attention to their rapid deployment during the COVID-19 pandemic.\"\n",
        "    },\n",
        "    {\n",
        "        \"id\": 4,\n",
        "        \"title\": \"Quantum Computing Algorithms for Optimization Problems\",\n",
        "        \"abstract\": \"Quantum computing offers potential speedups for solving complex optimization problems. This paper presents quantum algorithms for combinatorial optimization and compares their theoretical performance with classical methods on problems including traveling salesman and maximum cut.\"\n",
        "    },\n",
        "    {\n",
        "        \"id\": 5,\n",
        "        \"title\": \"Sustainable Urban Planning Frameworks\",\n",
        "        \"abstract\": \"This research proposes frameworks for sustainable urban development that integrate renewable energy systems, efficient public transportation networks, and green infrastructure. Case studies from five cities demonstrate reductions in carbon emissions and improvements in quality of life metrics.\"\n",
        "    },\n",
        "    {\n",
        "        \"id\": 6,\n",
        "        \"title\": \"Neural Networks for Computer Vision\",\n",
        "        \"abstract\": \"Convolutional neural networks have revolutionized computer vision tasks. This paper examines recent architectural innovations including residual connections, attention mechanisms, and vision transformers, evaluating their performance on image classification, object detection, and segmentation benchmarks.\"\n",
        "    },\n",
        "    {\n",
        "        \"id\": 7,\n",
        "        \"title\": \"Blockchain Applications in Supply Chain Management\",\n",
        "        \"abstract\": \"Blockchain technology enables transparent and secure tracking of goods throughout supply chains. This study analyzes implementations across food, pharmaceutical, and retail industries, quantifying improvements in traceability, reduction in counterfeit products, and enhanced consumer trust.\"\n",
        "    },\n",
        "    {\n",
        "        \"id\": 8,\n",
        "        \"title\": \"Genetic Factors in Autoimmune Disorders\",\n",
        "        \"abstract\": \"This research identifies key genetic markers associated with increased susceptibility to autoimmune conditions. Through genome-wide association studies of 15,000 patients, we identified novel variants that influence immune system regulation and may serve as targets for personalized therapeutic approaches.\"\n",
        "    },\n",
        "    {\n",
        "        \"id\": 9,\n",
        "        \"title\": \"Reinforcement Learning for Robotic Control Systems\",\n",
        "        \"abstract\": \"Deep reinforcement learning enables robots to learn complex manipulation tasks through trial and error. This paper presents a framework that combines model-based planning with policy gradient methods to achieve sample-efficient learning of dexterous manipulation skills.\"\n",
        "    },\n",
        "    {\n",
        "        \"id\": 10,\n",
        "        \"title\": \"Microplastic Pollution in Freshwater Systems\",\n",
        "        \"abstract\": \"This study quantifies microplastic contamination across 30 freshwater lakes and rivers, identifying primary sources and transport mechanisms. Results indicate correlation between population density and contamination levels, with implications for water treatment policies and plastic waste management.\"\n",
        "    }\n",
        "]\n",
        "\n",
        "\n",
        "data = pd.DataFrame(abstracts)\n",
        "print(f\"Dataset loaded with {len(data)} scientific papers\")"
      ]
    },
    {
      "cell_type": "code",
      "execution_count": 23,
      "metadata": {
        "colab": {
          "base_uri": "https://localhost:8080/"
        },
        "id": "SnHtI_qfJJG5",
        "outputId": "8107c55c-7f19-4b1f-cabf-a18f012e9b35"
      },
      "outputs": [
        {
          "output_type": "stream",
          "name": "stdout",
          "text": [
            "Loaded model: bert-base-nli-mean-tokens\n"
          ]
        }
      ],
      "source": [
        "# model_name=\"all-MiniLM-L6-V2\"\n",
        "model_name=\"bert-base-nli-mean-tokens\"\n",
        "model=SentenceTransformer(model_name)\n",
        "print(f\"Loaded model: {model_name}\")"
      ]
    },
    {
      "cell_type": "code",
      "source": [
        "sentences=data['abstract'].tolist()\n",
        "print(f\"Loaded {len(sentences)} documents\")"
      ],
      "metadata": {
        "colab": {
          "base_uri": "https://localhost:8080/"
        },
        "id": "L3-YMazf7FXS",
        "outputId": "67788ba8-919e-4ab9-f932-aaa072a57815"
      },
      "execution_count": 24,
      "outputs": [
        {
          "output_type": "stream",
          "name": "stdout",
          "text": [
            "Loaded 10 documents\n"
          ]
        }
      ]
    },
    {
      "cell_type": "code",
      "execution_count": 25,
      "metadata": {
        "colab": {
          "base_uri": "https://localhost:8080/",
          "height": 66,
          "referenced_widgets": [
            "b1fd785198e3427885271b1b0eba2c86",
            "5b66ce2b28224b5686548b3a0f589b1b",
            "7f023dbee0124a02b04a1f9643869454",
            "4ff5002c2cf04ed58d879a3e351eb8df",
            "3bac1edac8c048d4b3ce47b76d2fe2d4",
            "ac46ecea1f8c4add9c0c79b57036ad87",
            "818b00682b2a47ee970f0df0fe8916a6",
            "577633f4027742f69c634b1a658f2a76",
            "70c6dd66e01749bf86b88b1ba7b3a539",
            "da6ccf05409549d8bbdb9b9698f6414d",
            "cb30f7dd8760401a90d46dd570bb5936"
          ]
        },
        "id": "77w-4uIqJJFv",
        "outputId": "2b2c577f-8c19-4084-ae08-81fee03b49b8"
      },
      "outputs": [
        {
          "output_type": "display_data",
          "data": {
            "text/plain": [
              "Batches:   0%|          | 0/1 [00:00<?, ?it/s]"
            ],
            "application/vnd.jupyter.widget-view+json": {
              "version_major": 2,
              "version_minor": 0,
              "model_id": "b1fd785198e3427885271b1b0eba2c86"
            }
          },
          "metadata": {}
        },
        {
          "output_type": "stream",
          "name": "stdout",
          "text": [
            "Generated 10 embeddings with dimenstion 768\n"
          ]
        }
      ],
      "source": [
        "document_embeddings=model.encode(sentences,show_progress_bar=True)\n",
        "print(f\"Generated {len(document_embeddings)} embeddings with dimenstion {document_embeddings.shape[1]}\")"
      ]
    },
    {
      "cell_type": "code",
      "source": [
        "dimenstion=document_embeddings.shape[1]\n",
        "print(f\"Dimension of embeddings: {dimenstion}\")"
      ],
      "metadata": {
        "colab": {
          "base_uri": "https://localhost:8080/"
        },
        "id": "FbsXZhyk7PtK",
        "outputId": "23721ad9-419a-4492-a388-7783b8813e67"
      },
      "execution_count": 26,
      "outputs": [
        {
          "output_type": "stream",
          "name": "stdout",
          "text": [
            "Dimension of embeddings: 768\n"
          ]
        }
      ]
    },
    {
      "cell_type": "code",
      "execution_count": 28,
      "metadata": {
        "colab": {
          "base_uri": "https://localhost:8080/"
        },
        "id": "vmUdZtVAI9pH",
        "outputId": "38501a4c-aba6-430c-a2fe-db462c6968c6"
      },
      "outputs": [
        {
          "output_type": "stream",
          "name": "stdout",
          "text": [
            "Created Faiss index with 10 vectors\n"
          ]
        }
      ],
      "source": [
        "index=faiss.IndexFlatL2(dimenstion)\n",
        "index.add(np.array(document_embeddings).astype('float32'))\n",
        "print(f\"Created Faiss index with {index.ntotal} vectors\")"
      ]
    },
    {
      "cell_type": "code",
      "execution_count": 29,
      "metadata": {
        "id": "uH8gH4KpJFS7"
      },
      "outputs": [],
      "source": [
        "def semantic_search(query:str,top_k:int=3)->List[Dict]:\n",
        "  query_embedding=model.encode([query])\n",
        "  distances,indices=index.search(np.array(query_embedding).astype('float32'),top_k)\n",
        "  results=[]\n",
        "  for i,idx in enumerate(indices[0]):\n",
        "    results.append({\n",
        "        'id':data.iloc[idx]['id'],\n",
        "        'title':data.iloc[idx]['title'],\n",
        "        'abstract':data.iloc[idx]['abstract'],\n",
        "        'similarity_score':1-distances[0][i]/2\n",
        "    })\n",
        "\n",
        "\n",
        "\n",
        "\n",
        "    return results\n",
        "    # print(indices[0])\n"
      ]
    },
    {
      "cell_type": "code",
      "execution_count": 19,
      "metadata": {
        "colab": {
          "base_uri": "https://localhost:8080/"
        },
        "id": "hObjPEoFJFP1",
        "outputId": "7bbcd30f-3779-47ab-9a2d-8724af7ac085"
      },
      "outputs": [
        {
          "output_type": "stream",
          "name": "stdout",
          "text": [
            "\n",
            "================================================================================\n",
            "Query: How do transformers work in natural language processing?\n",
            "================================================================================\n",
            "[{'id': np.int64(9), 'title': 'Reinforcement Learning for Robotic Control Systems', 'abstract': 'Deep reinforcement learning enables robots to learn complex manipulation tasks through trial and error. This paper presents a framework that combines model-based planning with policy gradient methods to achieve sample-efficient learning of dexterous manipulation skills.', 'similarity_score': np.float32(-98.641846)}]\n",
            "\n",
            "================================================================================\n",
            "Query: What are the effects of global warming on ocean life?\n",
            "================================================================================\n",
            "[{'id': np.int64(2), 'title': 'Climate Change Impact on Marine Ecosystems', 'abstract': 'Rising ocean temperatures and acidification are severely impacting coral reefs and marine biodiversity. This study presents data collected over a 10-year period, demonstrating accelerated decline in reef ecosystems and proposing conservation strategies to mitigate further damage.', 'similarity_score': np.float32(-84.9985)}]\n",
            "\n",
            "================================================================================\n",
            "Query: Tell me about COVID vaccine development\n",
            "================================================================================\n",
            "[{'id': np.int64(3), 'title': 'Advancements in mRNA Vaccine Technology', 'abstract': 'The development of mRNA vaccines represents a breakthrough in immunization technology. This review discusses the mechanism of action, stability improvements, and clinical efficacy of mRNA platforms, with special attention to their rapid deployment during the COVID-19 pandemic.', 'similarity_score': np.float32(-73.09425)}]\n",
            "\n",
            "================================================================================\n",
            "Query: Latest algorithms in quantum computing\n",
            "================================================================================\n",
            "[{'id': np.int64(6), 'title': 'Neural Networks for Computer Vision', 'abstract': 'Convolutional neural networks have revolutionized computer vision tasks. This paper examines recent architectural innovations including residual connections, attention mechanisms, and vision transformers, evaluating their performance on image classification, object detection, and segmentation benchmarks.', 'similarity_score': np.float32(-91.92409)}]\n",
            "\n",
            "================================================================================\n",
            "Query: How can cities reduce their carbon footprint?\n",
            "================================================================================\n",
            "[{'id': np.int64(5), 'title': 'Sustainable Urban Planning Frameworks', 'abstract': 'This research proposes frameworks for sustainable urban development that integrate renewable energy systems, efficient public transportation networks, and green infrastructure. Case studies from five cities demonstrate reductions in carbon emissions and improvements in quality of life metrics.', 'similarity_score': np.float32(-77.403534)}]\n"
          ]
        }
      ],
      "source": [
        "test_queries = [\n",
        "    \"How do transformers work in natural language processing?\",\n",
        "    \"What are the effects of global warming on ocean life?\",\n",
        "    \"Tell me about COVID vaccine development\",\n",
        "    \"Latest algorithms in quantum computing\",\n",
        "    \"How can cities reduce their carbon footprint?\"\n",
        "]\n",
        "\n",
        "# query = \"Where old man standing alone?\"\n",
        "\n",
        "\n",
        "for query in test_queries:\n",
        "    print(\"\\n\" + \"=\"*80)\n",
        "    print(f\"Query: {query}\")\n",
        "    print(\"=\"*80)\n",
        "\n",
        "\n",
        "    results = semantic_search(query, top_k=3)\n",
        "    print(results)"
      ]
    }
  ],
  "metadata": {
    "accelerator": "GPU",
    "colab": {
      "gpuType": "T4",
      "provenance": [],
      "authorship_tag": "ABX9TyMxlDc61VNW4FCZwgMYRJUp",
      "include_colab_link": true
    },
    "kernelspec": {
      "display_name": "Python 3",
      "name": "python3"
    },
    "language_info": {
      "name": "python"
    },
    "widgets": {
      "application/vnd.jupyter.widget-state+json": {
        "b1fd785198e3427885271b1b0eba2c86": {
          "model_module": "@jupyter-widgets/controls",
          "model_name": "HBoxModel",
          "model_module_version": "1.5.0",
          "state": {
            "_dom_classes": [],
            "_model_module": "@jupyter-widgets/controls",
            "_model_module_version": "1.5.0",
            "_model_name": "HBoxModel",
            "_view_count": null,
            "_view_module": "@jupyter-widgets/controls",
            "_view_module_version": "1.5.0",
            "_view_name": "HBoxView",
            "box_style": "",
            "children": [
              "IPY_MODEL_5b66ce2b28224b5686548b3a0f589b1b",
              "IPY_MODEL_7f023dbee0124a02b04a1f9643869454",
              "IPY_MODEL_4ff5002c2cf04ed58d879a3e351eb8df"
            ],
            "layout": "IPY_MODEL_3bac1edac8c048d4b3ce47b76d2fe2d4"
          }
        },
        "5b66ce2b28224b5686548b3a0f589b1b": {
          "model_module": "@jupyter-widgets/controls",
          "model_name": "HTMLModel",
          "model_module_version": "1.5.0",
          "state": {
            "_dom_classes": [],
            "_model_module": "@jupyter-widgets/controls",
            "_model_module_version": "1.5.0",
            "_model_name": "HTMLModel",
            "_view_count": null,
            "_view_module": "@jupyter-widgets/controls",
            "_view_module_version": "1.5.0",
            "_view_name": "HTMLView",
            "description": "",
            "description_tooltip": null,
            "layout": "IPY_MODEL_ac46ecea1f8c4add9c0c79b57036ad87",
            "placeholder": "​",
            "style": "IPY_MODEL_818b00682b2a47ee970f0df0fe8916a6",
            "value": "Batches: 100%"
          }
        },
        "7f023dbee0124a02b04a1f9643869454": {
          "model_module": "@jupyter-widgets/controls",
          "model_name": "FloatProgressModel",
          "model_module_version": "1.5.0",
          "state": {
            "_dom_classes": [],
            "_model_module": "@jupyter-widgets/controls",
            "_model_module_version": "1.5.0",
            "_model_name": "FloatProgressModel",
            "_view_count": null,
            "_view_module": "@jupyter-widgets/controls",
            "_view_module_version": "1.5.0",
            "_view_name": "ProgressView",
            "bar_style": "success",
            "description": "",
            "description_tooltip": null,
            "layout": "IPY_MODEL_577633f4027742f69c634b1a658f2a76",
            "max": 1,
            "min": 0,
            "orientation": "horizontal",
            "style": "IPY_MODEL_70c6dd66e01749bf86b88b1ba7b3a539",
            "value": 1
          }
        },
        "4ff5002c2cf04ed58d879a3e351eb8df": {
          "model_module": "@jupyter-widgets/controls",
          "model_name": "HTMLModel",
          "model_module_version": "1.5.0",
          "state": {
            "_dom_classes": [],
            "_model_module": "@jupyter-widgets/controls",
            "_model_module_version": "1.5.0",
            "_model_name": "HTMLModel",
            "_view_count": null,
            "_view_module": "@jupyter-widgets/controls",
            "_view_module_version": "1.5.0",
            "_view_name": "HTMLView",
            "description": "",
            "description_tooltip": null,
            "layout": "IPY_MODEL_da6ccf05409549d8bbdb9b9698f6414d",
            "placeholder": "​",
            "style": "IPY_MODEL_cb30f7dd8760401a90d46dd570bb5936",
            "value": " 1/1 [00:00&lt;00:00, 13.81it/s]"
          }
        },
        "3bac1edac8c048d4b3ce47b76d2fe2d4": {
          "model_module": "@jupyter-widgets/base",
          "model_name": "LayoutModel",
          "model_module_version": "1.2.0",
          "state": {
            "_model_module": "@jupyter-widgets/base",
            "_model_module_version": "1.2.0",
            "_model_name": "LayoutModel",
            "_view_count": null,
            "_view_module": "@jupyter-widgets/base",
            "_view_module_version": "1.2.0",
            "_view_name": "LayoutView",
            "align_content": null,
            "align_items": null,
            "align_self": null,
            "border": null,
            "bottom": null,
            "display": null,
            "flex": null,
            "flex_flow": null,
            "grid_area": null,
            "grid_auto_columns": null,
            "grid_auto_flow": null,
            "grid_auto_rows": null,
            "grid_column": null,
            "grid_gap": null,
            "grid_row": null,
            "grid_template_areas": null,
            "grid_template_columns": null,
            "grid_template_rows": null,
            "height": null,
            "justify_content": null,
            "justify_items": null,
            "left": null,
            "margin": null,
            "max_height": null,
            "max_width": null,
            "min_height": null,
            "min_width": null,
            "object_fit": null,
            "object_position": null,
            "order": null,
            "overflow": null,
            "overflow_x": null,
            "overflow_y": null,
            "padding": null,
            "right": null,
            "top": null,
            "visibility": null,
            "width": null
          }
        },
        "ac46ecea1f8c4add9c0c79b57036ad87": {
          "model_module": "@jupyter-widgets/base",
          "model_name": "LayoutModel",
          "model_module_version": "1.2.0",
          "state": {
            "_model_module": "@jupyter-widgets/base",
            "_model_module_version": "1.2.0",
            "_model_name": "LayoutModel",
            "_view_count": null,
            "_view_module": "@jupyter-widgets/base",
            "_view_module_version": "1.2.0",
            "_view_name": "LayoutView",
            "align_content": null,
            "align_items": null,
            "align_self": null,
            "border": null,
            "bottom": null,
            "display": null,
            "flex": null,
            "flex_flow": null,
            "grid_area": null,
            "grid_auto_columns": null,
            "grid_auto_flow": null,
            "grid_auto_rows": null,
            "grid_column": null,
            "grid_gap": null,
            "grid_row": null,
            "grid_template_areas": null,
            "grid_template_columns": null,
            "grid_template_rows": null,
            "height": null,
            "justify_content": null,
            "justify_items": null,
            "left": null,
            "margin": null,
            "max_height": null,
            "max_width": null,
            "min_height": null,
            "min_width": null,
            "object_fit": null,
            "object_position": null,
            "order": null,
            "overflow": null,
            "overflow_x": null,
            "overflow_y": null,
            "padding": null,
            "right": null,
            "top": null,
            "visibility": null,
            "width": null
          }
        },
        "818b00682b2a47ee970f0df0fe8916a6": {
          "model_module": "@jupyter-widgets/controls",
          "model_name": "DescriptionStyleModel",
          "model_module_version": "1.5.0",
          "state": {
            "_model_module": "@jupyter-widgets/controls",
            "_model_module_version": "1.5.0",
            "_model_name": "DescriptionStyleModel",
            "_view_count": null,
            "_view_module": "@jupyter-widgets/base",
            "_view_module_version": "1.2.0",
            "_view_name": "StyleView",
            "description_width": ""
          }
        },
        "577633f4027742f69c634b1a658f2a76": {
          "model_module": "@jupyter-widgets/base",
          "model_name": "LayoutModel",
          "model_module_version": "1.2.0",
          "state": {
            "_model_module": "@jupyter-widgets/base",
            "_model_module_version": "1.2.0",
            "_model_name": "LayoutModel",
            "_view_count": null,
            "_view_module": "@jupyter-widgets/base",
            "_view_module_version": "1.2.0",
            "_view_name": "LayoutView",
            "align_content": null,
            "align_items": null,
            "align_self": null,
            "border": null,
            "bottom": null,
            "display": null,
            "flex": null,
            "flex_flow": null,
            "grid_area": null,
            "grid_auto_columns": null,
            "grid_auto_flow": null,
            "grid_auto_rows": null,
            "grid_column": null,
            "grid_gap": null,
            "grid_row": null,
            "grid_template_areas": null,
            "grid_template_columns": null,
            "grid_template_rows": null,
            "height": null,
            "justify_content": null,
            "justify_items": null,
            "left": null,
            "margin": null,
            "max_height": null,
            "max_width": null,
            "min_height": null,
            "min_width": null,
            "object_fit": null,
            "object_position": null,
            "order": null,
            "overflow": null,
            "overflow_x": null,
            "overflow_y": null,
            "padding": null,
            "right": null,
            "top": null,
            "visibility": null,
            "width": null
          }
        },
        "70c6dd66e01749bf86b88b1ba7b3a539": {
          "model_module": "@jupyter-widgets/controls",
          "model_name": "ProgressStyleModel",
          "model_module_version": "1.5.0",
          "state": {
            "_model_module": "@jupyter-widgets/controls",
            "_model_module_version": "1.5.0",
            "_model_name": "ProgressStyleModel",
            "_view_count": null,
            "_view_module": "@jupyter-widgets/base",
            "_view_module_version": "1.2.0",
            "_view_name": "StyleView",
            "bar_color": null,
            "description_width": ""
          }
        },
        "da6ccf05409549d8bbdb9b9698f6414d": {
          "model_module": "@jupyter-widgets/base",
          "model_name": "LayoutModel",
          "model_module_version": "1.2.0",
          "state": {
            "_model_module": "@jupyter-widgets/base",
            "_model_module_version": "1.2.0",
            "_model_name": "LayoutModel",
            "_view_count": null,
            "_view_module": "@jupyter-widgets/base",
            "_view_module_version": "1.2.0",
            "_view_name": "LayoutView",
            "align_content": null,
            "align_items": null,
            "align_self": null,
            "border": null,
            "bottom": null,
            "display": null,
            "flex": null,
            "flex_flow": null,
            "grid_area": null,
            "grid_auto_columns": null,
            "grid_auto_flow": null,
            "grid_auto_rows": null,
            "grid_column": null,
            "grid_gap": null,
            "grid_row": null,
            "grid_template_areas": null,
            "grid_template_columns": null,
            "grid_template_rows": null,
            "height": null,
            "justify_content": null,
            "justify_items": null,
            "left": null,
            "margin": null,
            "max_height": null,
            "max_width": null,
            "min_height": null,
            "min_width": null,
            "object_fit": null,
            "object_position": null,
            "order": null,
            "overflow": null,
            "overflow_x": null,
            "overflow_y": null,
            "padding": null,
            "right": null,
            "top": null,
            "visibility": null,
            "width": null
          }
        },
        "cb30f7dd8760401a90d46dd570bb5936": {
          "model_module": "@jupyter-widgets/controls",
          "model_name": "DescriptionStyleModel",
          "model_module_version": "1.5.0",
          "state": {
            "_model_module": "@jupyter-widgets/controls",
            "_model_module_version": "1.5.0",
            "_model_name": "DescriptionStyleModel",
            "_view_count": null,
            "_view_module": "@jupyter-widgets/base",
            "_view_module_version": "1.2.0",
            "_view_name": "StyleView",
            "description_width": ""
          }
        }
      }
    }
  },
  "nbformat": 4,
  "nbformat_minor": 0
}